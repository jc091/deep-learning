{
 "cells": [
  {
   "cell_type": "markdown",
   "metadata": {},
   "source": [
    "# TV Script Generation\n",
    "In this project, you'll generate your own [Simpsons](https://en.wikipedia.org/wiki/The_Simpsons) TV scripts using RNNs.  You'll be using part of the [Simpsons dataset](https://www.kaggle.com/wcukierski/the-simpsons-by-the-data) of scripts from 27 seasons.  The Neural Network you'll build will generate a new TV script for a scene at [Moe's Tavern](https://simpsonswiki.com/wiki/Moe's_Tavern).\n",
    "## Get the Data\n",
    "The data is already provided for you.  You'll be using a subset of the original dataset.  It consists of only the scenes in Moe's Tavern.  This doesn't include other versions of the tavern, like \"Moe's Cavern\", \"Flaming Moe's\", \"Uncle Moe's Family Feed-Bag\", etc.."
   ]
  },
  {
   "cell_type": "code",
   "execution_count": 1,
   "metadata": {
    "collapsed": true
   },
   "outputs": [],
   "source": [
    "\"\"\"\n",
    "DON'T MODIFY ANYTHING IN THIS CELL\n",
    "\"\"\"\n",
    "import helper\n",
    "\n",
    "data_dir = './data/simpsons/moes_tavern_lines.txt'\n",
    "text = helper.load_data(data_dir)\n",
    "# Ignore notice, since we don't use it for analysing the data\n",
    "text = text[81:]"
   ]
  },
  {
   "cell_type": "markdown",
   "metadata": {},
   "source": [
    "## Explore the Data\n",
    "Play around with `view_sentence_range` to view different parts of the data."
   ]
  },
  {
   "cell_type": "code",
   "execution_count": 2,
   "metadata": {},
   "outputs": [
    {
     "name": "stdout",
     "output_type": "stream",
     "text": [
      "Dataset Stats\n",
      "Roughly the number of unique words: 11492\n",
      "Number of scenes: 262\n",
      "Average number of sentences in each scene: 15.248091603053435\n",
      "Number of lines: 4257\n",
      "Average number of words in each line: 11.50434578341555\n",
      "\n",
      "The sentences 1 to 20:\n",
      "Bart_Simpson: Eh, yeah, hello, is Mike there? Last name, Rotch.\n",
      "Moe_Szyslak: (INTO PHONE) Hold on, I'll check. (TO BARFLIES) Mike Rotch. Mike Rotch. Hey, has anybody seen Mike Rotch, lately?\n",
      "Moe_Szyslak: (INTO PHONE) Listen you little puke. One of these days I'm gonna catch you, and I'm gonna carve my name on your back with an ice pick.\n",
      "Moe_Szyslak: What's the matter Homer? You're not your normal effervescent self.\n",
      "Homer_Simpson: I got my problems, Moe. Give me another one.\n",
      "Moe_Szyslak: Homer, hey, you should not drink to forget your problems.\n",
      "Barney_Gumble: Yeah, you should only drink to enhance your social skills.\n",
      "\n",
      "\n",
      "Moe_Szyslak: Ah, isn't that nice. Now, there is a politician who cares.\n",
      "Barney_Gumble: If I ever vote, it'll be for him. (BELCH)\n",
      "\n",
      "\n",
      "Barney_Gumble: Hey Homer, how's your neighbor's store doing?\n",
      "Homer_Simpson: Lousy. He just sits there all day. He'd have a great job if he didn't own the place. (CHUCKLES)\n",
      "Moe_Szyslak: (STRUGGLING WITH CORKSCREW) Crummy right-handed corkscrews! What does he sell?\n",
      "Homer_Simpson: Uh, well actually, Moe...\n",
      "HOMER_(CONT'D: I dunno.\n",
      "\n"
     ]
    }
   ],
   "source": [
    "view_sentence_range = (1, 20)\n",
    "\n",
    "\"\"\"\n",
    "DON'T MODIFY ANYTHING IN THIS CELL\n",
    "\"\"\"\n",
    "import numpy as np\n",
    "\n",
    "print('Dataset Stats')\n",
    "print('Roughly the number of unique words: {}'.format(len({word: None for word in text.split()})))\n",
    "scenes = text.split('\\n\\n')\n",
    "print('Number of scenes: {}'.format(len(scenes)))\n",
    "sentence_count_scene = [scene.count('\\n') for scene in scenes]\n",
    "print('Average number of sentences in each scene: {}'.format(np.average(sentence_count_scene)))\n",
    "\n",
    "sentences = [sentence for scene in scenes for sentence in scene.split('\\n')]\n",
    "print('Number of lines: {}'.format(len(sentences)))\n",
    "word_count_sentence = [len(sentence.split()) for sentence in sentences]\n",
    "print('Average number of words in each line: {}'.format(np.average(word_count_sentence)))\n",
    "\n",
    "print()\n",
    "print('The sentences {} to {}:'.format(*view_sentence_range))\n",
    "print('\\n'.join(text.split('\\n')[view_sentence_range[0]:view_sentence_range[1]]))"
   ]
  },
  {
   "cell_type": "code",
   "execution_count": 3,
   "metadata": {},
   "outputs": [
    {
     "ename": "SyntaxError",
     "evalue": "invalid syntax (<ipython-input-3-0c5dd2ad7d0f>, line 2)",
     "output_type": "error",
     "traceback": [
      "\u001b[0;36m  File \u001b[0;32m\"<ipython-input-3-0c5dd2ad7d0f>\"\u001b[0;36m, line \u001b[0;32m2\u001b[0m\n\u001b[0;31m    words =\u001b[0m\n\u001b[0m            ^\u001b[0m\n\u001b[0;31mSyntaxError\u001b[0m\u001b[0;31m:\u001b[0m invalid syntax\n"
     ]
    }
   ],
   "source": [
    "from collections import Counter\n",
    "words = "
   ]
  },
  {
   "cell_type": "markdown",
   "metadata": {},
   "source": [
    "## Implement Preprocessing Functions\n",
    "The first thing to do to any dataset is preprocessing.  Implement the following preprocessing functions below:\n",
    "- Lookup Table\n",
    "- Tokenize Punctuation\n",
    "\n",
    "### Lookup Table\n",
    "To create a word embedding, you first need to transform the words to ids.  In this function, create two dictionaries:\n",
    "- Dictionary to go from the words to an id, we'll call `vocab_to_int`\n",
    "- Dictionary to go from the id to word, we'll call `int_to_vocab`\n",
    "\n",
    "Return these dictionaries in the following tuple `(vocab_to_int, int_to_vocab)`"
   ]
  },
  {
   "cell_type": "code",
   "execution_count": 4,
   "metadata": {},
   "outputs": [
    {
     "name": "stdout",
     "output_type": "stream",
     "text": [
      "Tests Passed\n"
     ]
    }
   ],
   "source": [
    "import numpy as np\n",
    "import problem_unittests as tests\n",
    "\n",
    "def create_lookup_tables(text):\n",
    "    \"\"\"\n",
    "    Create lookup tables for vocabulary\n",
    "    :param text: The text of tv scripts split into words\n",
    "    :return: A tuple of dicts (vocab_to_int, int_to_vocab)\n",
    "    \"\"\"\n",
    "    vocab = set(text)\n",
    "    vocab_to_int = {c: i for i, c in enumerate(vocab)}\n",
    "    int_to_vocab = dict(enumerate(vocab))\n",
    "    return (vocab_to_int, int_to_vocab)\n",
    "\n",
    "\n",
    "\"\"\"\n",
    "DON'T MODIFY ANYTHING IN THIS CELL THAT IS BELOW THIS LINE\n",
    "\"\"\"\n",
    "tests.test_create_lookup_tables(create_lookup_tables)"
   ]
  },
  {
   "cell_type": "markdown",
   "metadata": {},
   "source": [
    "### Tokenize Punctuation\n",
    "We'll be splitting the script into a word array using spaces as delimiters.  However, punctuations like periods and exclamation marks make it hard for the neural network to distinguish between the word \"bye\" and \"bye!\".\n",
    "\n",
    "Implement the function `token_lookup` to return a dict that will be used to tokenize symbols like \"!\" into \"||Exclamation_Mark||\".  Create a dictionary for the following symbols where the symbol is the key and value is the token:\n",
    "- Period ( . )\n",
    "- Comma ( , )\n",
    "- Quotation Mark ( \" )\n",
    "- Semicolon ( ; )\n",
    "- Exclamation mark ( ! )\n",
    "- Question mark ( ? )\n",
    "- Left Parentheses ( ( )\n",
    "- Right Parentheses ( ) )\n",
    "- Dash ( -- )\n",
    "- Return ( \\n )\n",
    "\n",
    "This dictionary will be used to token the symbols and add the delimiter (space) around it.  This separates the symbols as it's own word, making it easier for the neural network to predict on the next word. Make sure you don't use a token that could be confused as a word. Instead of using the token \"dash\", try using something like \"||dash||\"."
   ]
  },
  {
   "cell_type": "code",
   "execution_count": 5,
   "metadata": {},
   "outputs": [
    {
     "name": "stdout",
     "output_type": "stream",
     "text": [
      "Tests Passed\n"
     ]
    }
   ],
   "source": [
    "def token_lookup():\n",
    "    \"\"\"\n",
    "    Generate a dict to turn punctuation into a token.\n",
    "    :return: Tokenize dictionary where the key is the punctuation and the value is the token\n",
    "    \"\"\"\n",
    "    # TODO: Implement Function\n",
    "    tokenize_dict = {\n",
    "        '.': '||Period||',\n",
    "        ',': '||Comma||',\n",
    "        '\"': '||Quotation_Mark||',\n",
    "        ';': '||Semicolon||',\n",
    "        '!': '||Exclamation_Mark||',\n",
    "        '?': '||Question_Mark||',\n",
    "        \"(\": '||Left_Parentheses||',\n",
    "        \")\": '||Right_Parentheses||',\n",
    "        \"--\": '||Dash||',\n",
    "        \"\\n\": '||Return||'\n",
    "    }\n",
    "    return tokenize_dict\n",
    "\n",
    "\"\"\"\n",
    "DON'T MODIFY ANYTHING IN THIS CELL THAT IS BELOW THIS LINE\n",
    "\"\"\"\n",
    "tests.test_tokenize(token_lookup)"
   ]
  },
  {
   "cell_type": "markdown",
   "metadata": {},
   "source": [
    "## Preprocess all the data and save it\n",
    "Running the code cell below will preprocess all the data and save it to file."
   ]
  },
  {
   "cell_type": "code",
   "execution_count": 6,
   "metadata": {
    "collapsed": true
   },
   "outputs": [],
   "source": [
    "\"\"\"\n",
    "DON'T MODIFY ANYTHING IN THIS CELL\n",
    "\"\"\"\n",
    "# Preprocess Training, Validation, and Testing Data\n",
    "helper.preprocess_and_save_data(data_dir, token_lookup, create_lookup_tables)"
   ]
  },
  {
   "cell_type": "markdown",
   "metadata": {},
   "source": [
    "# Check Point\n",
    "This is your first checkpoint. If you ever decide to come back to this notebook or have to restart the notebook, you can start from here. The preprocessed data has been saved to disk."
   ]
  },
  {
   "cell_type": "code",
   "execution_count": 7,
   "metadata": {
    "collapsed": true
   },
   "outputs": [],
   "source": [
    "\"\"\"\n",
    "DON'T MODIFY ANYTHING IN THIS CELL\n",
    "\"\"\"\n",
    "import helper\n",
    "import numpy as np\n",
    "import problem_unittests as tests\n",
    "\n",
    "int_text, vocab_to_int, int_to_vocab, token_dict = helper.load_preprocess()"
   ]
  },
  {
   "cell_type": "markdown",
   "metadata": {},
   "source": [
    "## Build the Neural Network\n",
    "You'll build the components necessary to build a RNN by implementing the following functions below:\n",
    "- get_inputs\n",
    "- get_init_cell\n",
    "- get_embed\n",
    "- build_rnn\n",
    "- build_nn\n",
    "- get_batches\n",
    "\n",
    "### Check the Version of TensorFlow and Access to GPU"
   ]
  },
  {
   "cell_type": "code",
   "execution_count": 8,
   "metadata": {},
   "outputs": [
    {
     "name": "stdout",
     "output_type": "stream",
     "text": [
      "TensorFlow Version: 1.1.0\n",
      "Default GPU Device: /gpu:0\n"
     ]
    }
   ],
   "source": [
    "\"\"\"\n",
    "DON'T MODIFY ANYTHING IN THIS CELL\n",
    "\"\"\"\n",
    "from distutils.version import LooseVersion\n",
    "import warnings\n",
    "import tensorflow as tf\n",
    "\n",
    "# Check TensorFlow Version\n",
    "assert LooseVersion(tf.__version__) >= LooseVersion('1.0'), 'Please use TensorFlow version 1.0 or newer'\n",
    "print('TensorFlow Version: {}'.format(tf.__version__))\n",
    "\n",
    "# Check for a GPU\n",
    "if not tf.test.gpu_device_name():\n",
    "    warnings.warn('No GPU found. Please use a GPU to train your neural network.')\n",
    "else:\n",
    "    print('Default GPU Device: {}'.format(tf.test.gpu_device_name()))"
   ]
  },
  {
   "cell_type": "markdown",
   "metadata": {},
   "source": [
    "### Input\n",
    "Implement the `get_inputs()` function to create TF Placeholders for the Neural Network.  It should create the following placeholders:\n",
    "- Input text placeholder named \"input\" using the [TF Placeholder](https://www.tensorflow.org/api_docs/python/tf/placeholder) `name` parameter.\n",
    "- Targets placeholder\n",
    "- Learning Rate placeholder\n",
    "\n",
    "Return the placeholders in the following tuple `(Input, Targets, LearningRate)`"
   ]
  },
  {
   "cell_type": "code",
   "execution_count": 9,
   "metadata": {},
   "outputs": [
    {
     "name": "stdout",
     "output_type": "stream",
     "text": [
      "Tests Passed\n"
     ]
    }
   ],
   "source": [
    "def get_inputs():\n",
    "    \"\"\"\n",
    "    Create TF Placeholders for input, targets, and learning rate.\n",
    "    :return: Tuple (input, targets, learning rate)\n",
    "    \"\"\"\n",
    "    input_data = tf.placeholder(tf.int32, shape=(None, None), name=\"input\")\n",
    "    targets = tf.placeholder(tf.int32, shape=(None, None), name=\"targets\")\n",
    "    learning_rate = tf.placeholder(tf.float32, name=\"learning_rate\")\n",
    "    return input_data, targets, learning_rate\n",
    "\n",
    "\n",
    "\"\"\"\n",
    "DON'T MODIFY ANYTHING IN THIS CELL THAT IS BELOW THIS LINE\n",
    "\"\"\"\n",
    "tests.test_get_inputs(get_inputs)"
   ]
  },
  {
   "cell_type": "markdown",
   "metadata": {},
   "source": [
    "### Build RNN Cell and Initialize\n",
    "Stack one or more [`BasicLSTMCells`](https://www.tensorflow.org/api_docs/python/tf/contrib/rnn/BasicLSTMCell) in a [`MultiRNNCell`](https://www.tensorflow.org/api_docs/python/tf/contrib/rnn/MultiRNNCell).\n",
    "- The Rnn size should be set using `rnn_size`\n",
    "- Initalize Cell State using the MultiRNNCell's [`zero_state()`](https://www.tensorflow.org/api_docs/python/tf/contrib/rnn/MultiRNNCell#zero_state) function\n",
    "    - Apply the name \"initial_state\" to the initial state using [`tf.identity()`](https://www.tensorflow.org/api_docs/python/tf/identity)\n",
    "\n",
    "Return the cell and initial state in the following tuple `(Cell, InitialState)`"
   ]
  },
  {
   "cell_type": "code",
   "execution_count": 35,
   "metadata": {},
   "outputs": [
    {
     "name": "stdout",
     "output_type": "stream",
     "text": [
      "Tests Passed\n"
     ]
    }
   ],
   "source": [
    "def get_init_cell(batch_size, rnn_size):\n",
    "    \"\"\"\n",
    "    Create an RNN Cell and initialize it.\n",
    "    :param batch_size: Size of batches\n",
    "    :param rnn_size: Size of RNNs\n",
    "    :return: Tuple (cell, initialize state)\n",
    "    \"\"\"\n",
    "    n_lstm_layer = 4\n",
    "    lstm_cells = [tf.contrib.rnn.BasicLSTMCell(rnn_size) for _ in range(n_lstm_layer)]\n",
    "    \n",
    "    cell = tf.contrib.rnn.MultiRNNCell(lstm_cells)\n",
    "    initial_state = tf.identity(\n",
    "        cell.zero_state(batch_size, tf.float32),\n",
    "        name=\"initial_state\"\n",
    "    )\n",
    "    \n",
    "    return cell, initial_state\n",
    "\n",
    "\n",
    "\"\"\"\n",
    "DON'T MODIFY ANYTHING IN THIS CELL THAT IS BELOW THIS LINE\n",
    "\"\"\"\n",
    "tests.test_get_init_cell(get_init_cell)"
   ]
  },
  {
   "cell_type": "markdown",
   "metadata": {},
   "source": [
    "### Word Embedding\n",
    "Apply embedding to `input_data` using TensorFlow.  Return the embedded sequence."
   ]
  },
  {
   "cell_type": "code",
   "execution_count": 36,
   "metadata": {},
   "outputs": [
    {
     "name": "stdout",
     "output_type": "stream",
     "text": [
      "Tests Passed\n"
     ]
    }
   ],
   "source": [
    "def get_embed(input_data, vocab_size, embed_dim):\n",
    "    \"\"\"\n",
    "    Create embedding for <input_data>.\n",
    "    :param input_data: TF placeholder for text input.\n",
    "    :param vocab_size: Number of words in vocabulary.\n",
    "    :param embed_dim: Number of embedding dimensions\n",
    "    :return: Embedded input.\n",
    "    \"\"\"\n",
    "    embedding_vec = tf.Variable(\n",
    "        tf.random_uniform(shape=(vocab_size, embed_dim), minval=-1, maxval=1),\n",
    "        name=\"embedding\"\n",
    "    )\n",
    "    embedding = tf.nn.embedding_lookup(embedding_vec, input_data)\n",
    "    return embedding\n",
    "\n",
    "\n",
    "\"\"\"\n",
    "DON'T MODIFY ANYTHING IN THIS CELL THAT IS BELOW THIS LINE\n",
    "\"\"\"\n",
    "tests.test_get_embed(get_embed)"
   ]
  },
  {
   "cell_type": "markdown",
   "metadata": {},
   "source": [
    "### Build RNN\n",
    "You created a RNN Cell in the `get_init_cell()` function.  Time to use the cell to create a RNN.\n",
    "- Build the RNN using the [`tf.nn.dynamic_rnn()`](https://www.tensorflow.org/api_docs/python/tf/nn/dynamic_rnn)\n",
    " - Apply the name \"final_state\" to the final state using [`tf.identity()`](https://www.tensorflow.org/api_docs/python/tf/identity)\n",
    "\n",
    "Return the outputs and final_state state in the following tuple `(Outputs, FinalState)` "
   ]
  },
  {
   "cell_type": "code",
   "execution_count": 37,
   "metadata": {},
   "outputs": [
    {
     "name": "stdout",
     "output_type": "stream",
     "text": [
      "Tests Passed\n"
     ]
    }
   ],
   "source": [
    "def build_rnn(cell, inputs):\n",
    "    \"\"\"\n",
    "    Create a RNN using a RNN Cell\n",
    "    :param cell: RNN Cell\n",
    "    :param inputs: Input text data\n",
    "    :return: Tuple (Outputs, Final State)\n",
    "    \"\"\"\n",
    "    outputs, state = tf.nn.dynamic_rnn(cell, inputs, dtype=tf.float32)\n",
    "    final_state = tf.identity(state, name=\"final_state\")\n",
    "    return outputs, final_state\n",
    "\n",
    "\n",
    "\"\"\"\n",
    "DON'T MODIFY ANYTHING IN THIS CELL THAT IS BELOW THIS LINE\n",
    "\"\"\"\n",
    "tests.test_build_rnn(build_rnn)"
   ]
  },
  {
   "cell_type": "markdown",
   "metadata": {},
   "source": [
    "### Build the Neural Network\n",
    "Apply the functions you implemented above to:\n",
    "- Apply embedding to `input_data` using your `get_embed(input_data, vocab_size, embed_dim)` function.\n",
    "- Build RNN using `cell` and your `build_rnn(cell, inputs)` function.\n",
    "- Apply a fully connected layer with a linear activation and `vocab_size` as the number of outputs.\n",
    "\n",
    "Return the logits and final state in the following tuple (Logits, FinalState) "
   ]
  },
  {
   "cell_type": "code",
   "execution_count": 38,
   "metadata": {},
   "outputs": [
    {
     "name": "stdout",
     "output_type": "stream",
     "text": [
      "Tests Passed\n"
     ]
    }
   ],
   "source": [
    "def build_nn(cell, rnn_size, input_data, vocab_size, embed_dim):\n",
    "    \"\"\"\n",
    "    Build part of the neural network\n",
    "    :param cell: RNN cell\n",
    "    :param rnn_size: Size of rnns\n",
    "    :param input_data: Input data\n",
    "    :param vocab_size: Vocabulary size\n",
    "    :param embed_dim: Number of embedding dimensions\n",
    "    :return: Tuple (Logits, FinalState)\n",
    "    \"\"\"\n",
    "    embedding = get_embed(input_data, vocab_size, embed_dim)\n",
    "    rnn_outputs, final_state = build_rnn(cell, embedding)\n",
    "    \n",
    "    logits = tf.contrib.layers.fully_connected(rnn_outputs, vocab_size, activation_fn=None)\n",
    "\n",
    "    return logits, final_state\n",
    "\n",
    "\n",
    "\"\"\"\n",
    "DON'T MODIFY ANYTHING IN THIS CELL THAT IS BELOW THIS LINE\n",
    "\"\"\"\n",
    "tests.test_build_nn(build_nn)"
   ]
  },
  {
   "cell_type": "markdown",
   "metadata": {},
   "source": [
    "### Batches\n",
    "Implement `get_batches` to create batches of input and targets using `int_text`.  The batches should be a Numpy array with the shape `(number of batches, 2, batch size, sequence length)`. Each batch contains two elements:\n",
    "- The first element is a single batch of **input** with the shape `[batch size, sequence length]`\n",
    "- The second element is a single batch of **targets** with the shape `[batch size, sequence length]`\n",
    "\n",
    "If you can't fill the last batch with enough data, drop the last batch.\n",
    "\n",
    "For exmple, `get_batches([1, 2, 3, 4, 5, 6, 7, 8, 9, 10, 11, 12, 13, 14, 15, 16, 17, 18, 19, 20], 3, 2)` would return a Numpy array of the following:\n",
    "```\n",
    "[\n",
    "  # First Batch\n",
    "  [\n",
    "    # Batch of Input\n",
    "    [[ 1  2], [ 7  8], [13 14]]\n",
    "    # Batch of targets\n",
    "    [[ 2  3], [ 8  9], [14 15]]\n",
    "  ]\n",
    "\n",
    "  # Second Batch\n",
    "  [\n",
    "    # Batch of Input\n",
    "    [[ 3  4], [ 9 10], [15 16]]\n",
    "    # Batch of targets\n",
    "    [[ 4  5], [10 11], [16 17]]\n",
    "  ]\n",
    "\n",
    "  # Third Batch\n",
    "  [\n",
    "    # Batch of Input\n",
    "    [[ 5  6], [11 12], [17 18]]\n",
    "    # Batch of targets\n",
    "    [[ 6  7], [12 13], [18  1]]\n",
    "  ]\n",
    "]\n",
    "```\n",
    "\n",
    "Notice that the last target value in the last batch is the first input value of the first batch. In this case, `1`. This is a common technique used when creating sequence batches, although it is rather unintuitive."
   ]
  },
  {
   "cell_type": "code",
   "execution_count": 39,
   "metadata": {},
   "outputs": [
    {
     "name": "stdout",
     "output_type": "stream",
     "text": [
      "Tests Passed\n"
     ]
    }
   ],
   "source": [
    "def get_batches(int_text, batch_size, seq_length):\n",
    "    \"\"\"\n",
    "    Return batches of input and target\n",
    "    :param int_text: Text with the words replaced by their ids\n",
    "    :param batch_size: The size of batch\n",
    "    :param seq_length: The length of sequence\n",
    "    :return: Batches as a Numpy array\n",
    "    \"\"\"\n",
    "    # TODO: Implement Function\n",
    "    n_feature_per_batch = batch_size * seq_length\n",
    "    n_batches = len(int_text)//n_feature_per_batch\n",
    "    \n",
    "    x = np.array(int_text[:n_batches * n_feature_per_batch])\n",
    "    y = np.array(int_text[1:n_batches * n_feature_per_batch + 1])\n",
    "    y[-1] = x[0]\n",
    "    \n",
    "    x_batches = np.split(x.reshape(batch_size, -1), n_batches, axis=1)\n",
    "    y_batches = np.split(y.reshape(batch_size, -1), n_batches, axis=1)\n",
    "    \n",
    "    batches = list(zip(x_batches, y_batches))\n",
    "    return np.array(batches)\n",
    "\n",
    "\n",
    "\"\"\"\n",
    "DON'T MODIFY ANYTHING IN THIS CELL THAT IS BELOW THIS LINE\n",
    "\"\"\"\n",
    "tests.test_get_batches(get_batches)"
   ]
  },
  {
   "cell_type": "markdown",
   "metadata": {},
   "source": [
    "## Neural Network Training\n",
    "### Hyperparameters\n",
    "Tune the following parameters:\n",
    "\n",
    "- Set `num_epochs` to the number of epochs.\n",
    "- Set `batch_size` to the batch size.\n",
    "- Set `rnn_size` to the size of the RNNs.\n",
    "- Set `embed_dim` to the size of the embedding.\n",
    "- Set `seq_length` to the length of sequence.\n",
    "- Set `learning_rate` to the learning rate.\n",
    "- Set `show_every_n_batches` to the number of batches the neural network should print progress."
   ]
  },
  {
   "cell_type": "code",
   "execution_count": 42,
   "metadata": {
    "collapsed": true
   },
   "outputs": [],
   "source": [
    "# Number of Epochs\n",
    "num_epochs = 100\n",
    "# Batch Size\n",
    "batch_size = 128\n",
    "# RNN Size\n",
    "rnn_size = 1024\n",
    "# Embedding Dimension Size\n",
    "embed_dim = 300\n",
    "# Sequence Length\n",
    "seq_length = 12\n",
    "# Learning Rate\n",
    "learning_rate = 0.001\n",
    "# Show stats for every n number of batches\n",
    "show_every_n_batches = 10\n",
    "\n",
    "\"\"\"\n",
    "DON'T MODIFY ANYTHING IN THIS CELL THAT IS BELOW THIS LINE\n",
    "\"\"\"\n",
    "save_dir = './save'"
   ]
  },
  {
   "cell_type": "markdown",
   "metadata": {},
   "source": [
    "### Build the Graph\n",
    "Build the graph using the neural network you implemented."
   ]
  },
  {
   "cell_type": "code",
   "execution_count": 43,
   "metadata": {
    "collapsed": true
   },
   "outputs": [],
   "source": [
    "\"\"\"\n",
    "DON'T MODIFY ANYTHING IN THIS CELL\n",
    "\"\"\"\n",
    "from tensorflow.contrib import seq2seq\n",
    "\n",
    "train_graph = tf.Graph()\n",
    "with train_graph.as_default():\n",
    "    vocab_size = len(int_to_vocab)\n",
    "    input_text, targets, lr = get_inputs()\n",
    "    input_data_shape = tf.shape(input_text)\n",
    "    cell, initial_state = get_init_cell(input_data_shape[0], rnn_size)\n",
    "    logits, final_state = build_nn(cell, rnn_size, input_text, vocab_size, embed_dim)\n",
    "\n",
    "    # Probabilities for generating words\n",
    "    probs = tf.nn.softmax(logits, name='probs')\n",
    "\n",
    "    # Loss function\n",
    "    cost = seq2seq.sequence_loss(\n",
    "        logits,\n",
    "        targets,\n",
    "        tf.ones([input_data_shape[0], input_data_shape[1]]))\n",
    "\n",
    "    # Optimizer\n",
    "    optimizer = tf.train.AdamOptimizer(lr)\n",
    "\n",
    "    # Gradient Clipping\n",
    "    gradients = optimizer.compute_gradients(cost)\n",
    "    capped_gradients = [(tf.clip_by_value(grad, -1., 1.), var) for grad, var in gradients if grad is not None]\n",
    "    train_op = optimizer.apply_gradients(capped_gradients)"
   ]
  },
  {
   "cell_type": "markdown",
   "metadata": {},
   "source": [
    "## Train\n",
    "Train the neural network on the preprocessed data.  If you have a hard time getting a good loss, check the [forms](https://discussions.udacity.com/) to see if anyone is having the same problem."
   ]
  },
  {
   "cell_type": "code",
   "execution_count": 44,
   "metadata": {
    "scrolled": false
   },
   "outputs": [
    {
     "name": "stdout",
     "output_type": "stream",
     "text": [
      "Epoch   0 Batch    0/44   train_loss = 8.821\n",
      "Epoch   0 Batch   10/44   train_loss = 6.764\n",
      "Epoch   0 Batch   20/44   train_loss = 6.306\n",
      "Epoch   0 Batch   30/44   train_loss = 6.353\n",
      "Epoch   0 Batch   40/44   train_loss = 6.222\n",
      "Epoch   1 Batch    6/44   train_loss = 5.960\n",
      "Epoch   1 Batch   16/44   train_loss = 6.082\n",
      "Epoch   1 Batch   26/44   train_loss = 6.073\n",
      "Epoch   1 Batch   36/44   train_loss = 6.085\n",
      "Epoch   2 Batch    2/44   train_loss = 5.889\n",
      "Epoch   2 Batch   12/44   train_loss = 5.931\n",
      "Epoch   2 Batch   22/44   train_loss = 5.913\n",
      "Epoch   2 Batch   32/44   train_loss = 5.939\n",
      "Epoch   2 Batch   42/44   train_loss = 6.037\n",
      "Epoch   3 Batch    8/44   train_loss = 5.927\n",
      "Epoch   3 Batch   18/44   train_loss = 5.886\n",
      "Epoch   3 Batch   28/44   train_loss = 5.880\n",
      "Epoch   3 Batch   38/44   train_loss = 5.721\n",
      "Epoch   4 Batch    4/44   train_loss = 5.614\n",
      "Epoch   4 Batch   14/44   train_loss = 5.720\n",
      "Epoch   4 Batch   24/44   train_loss = 5.612\n",
      "Epoch   4 Batch   34/44   train_loss = 5.661\n",
      "Epoch   5 Batch    0/44   train_loss = 5.463\n",
      "Epoch   5 Batch   10/44   train_loss = 5.594\n",
      "Epoch   5 Batch   20/44   train_loss = 5.474\n",
      "Epoch   5 Batch   30/44   train_loss = 5.610\n",
      "Epoch   5 Batch   40/44   train_loss = 5.457\n",
      "Epoch   6 Batch    6/44   train_loss = 5.338\n",
      "Epoch   6 Batch   16/44   train_loss = 5.467\n",
      "Epoch   6 Batch   26/44   train_loss = 5.399\n",
      "Epoch   6 Batch   36/44   train_loss = 5.445\n",
      "Epoch   7 Batch    2/44   train_loss = 5.153\n",
      "Epoch   7 Batch   12/44   train_loss = 5.262\n",
      "Epoch   7 Batch   22/44   train_loss = 5.170\n",
      "Epoch   7 Batch   32/44   train_loss = 5.183\n",
      "Epoch   7 Batch   42/44   train_loss = 5.205\n",
      "Epoch   8 Batch    8/44   train_loss = 5.121\n",
      "Epoch   8 Batch   18/44   train_loss = 5.117\n",
      "Epoch   8 Batch   28/44   train_loss = 5.075\n",
      "Epoch   8 Batch   38/44   train_loss = 4.941\n",
      "Epoch   9 Batch    4/44   train_loss = 4.875\n",
      "Epoch   9 Batch   14/44   train_loss = 5.031\n",
      "Epoch   9 Batch   24/44   train_loss = 4.903\n",
      "Epoch   9 Batch   34/44   train_loss = 4.893\n",
      "Epoch  10 Batch    0/44   train_loss = 4.726\n",
      "Epoch  10 Batch   10/44   train_loss = 4.918\n",
      "Epoch  10 Batch   20/44   train_loss = 4.733\n",
      "Epoch  10 Batch   30/44   train_loss = 4.848\n",
      "Epoch  10 Batch   40/44   train_loss = 4.787\n",
      "Epoch  11 Batch    6/44   train_loss = 4.616\n",
      "Epoch  11 Batch   16/44   train_loss = 4.734\n",
      "Epoch  11 Batch   26/44   train_loss = 4.603\n",
      "Epoch  11 Batch   36/44   train_loss = 4.665\n",
      "Epoch  12 Batch    2/44   train_loss = 4.438\n",
      "Epoch  12 Batch   12/44   train_loss = 4.520\n",
      "Epoch  12 Batch   22/44   train_loss = 4.477\n",
      "Epoch  12 Batch   32/44   train_loss = 4.450\n",
      "Epoch  12 Batch   42/44   train_loss = 4.461\n",
      "Epoch  13 Batch    8/44   train_loss = 4.412\n",
      "Epoch  13 Batch   18/44   train_loss = 4.484\n",
      "Epoch  13 Batch   28/44   train_loss = 4.395\n",
      "Epoch  13 Batch   38/44   train_loss = 4.255\n",
      "Epoch  14 Batch    4/44   train_loss = 4.257\n",
      "Epoch  14 Batch   14/44   train_loss = 4.415\n",
      "Epoch  14 Batch   24/44   train_loss = 4.280\n",
      "Epoch  14 Batch   34/44   train_loss = 4.258\n",
      "Epoch  15 Batch    0/44   train_loss = 4.135\n",
      "Epoch  15 Batch   10/44   train_loss = 4.264\n",
      "Epoch  15 Batch   20/44   train_loss = 4.123\n",
      "Epoch  15 Batch   30/44   train_loss = 4.201\n",
      "Epoch  15 Batch   40/44   train_loss = 4.166\n",
      "Epoch  16 Batch    6/44   train_loss = 4.124\n",
      "Epoch  16 Batch   16/44   train_loss = 4.214\n",
      "Epoch  16 Batch   26/44   train_loss = 4.070\n",
      "Epoch  16 Batch   36/44   train_loss = 4.149\n",
      "Epoch  17 Batch    2/44   train_loss = 3.929\n",
      "Epoch  17 Batch   12/44   train_loss = 4.018\n",
      "Epoch  17 Batch   22/44   train_loss = 4.020\n",
      "Epoch  17 Batch   32/44   train_loss = 3.983\n",
      "Epoch  17 Batch   42/44   train_loss = 3.976\n",
      "Epoch  18 Batch    8/44   train_loss = 3.858\n",
      "Epoch  18 Batch   18/44   train_loss = 4.029\n",
      "Epoch  18 Batch   28/44   train_loss = 3.901\n",
      "Epoch  18 Batch   38/44   train_loss = 3.760\n",
      "Epoch  19 Batch    4/44   train_loss = 3.773\n",
      "Epoch  19 Batch   14/44   train_loss = 3.912\n",
      "Epoch  19 Batch   24/44   train_loss = 3.771\n",
      "Epoch  19 Batch   34/44   train_loss = 3.866\n",
      "Epoch  20 Batch    0/44   train_loss = 3.664\n",
      "Epoch  20 Batch   10/44   train_loss = 3.772\n",
      "Epoch  20 Batch   20/44   train_loss = 3.673\n",
      "Epoch  20 Batch   30/44   train_loss = 3.767\n",
      "Epoch  20 Batch   40/44   train_loss = 3.694\n",
      "Epoch  21 Batch    6/44   train_loss = 3.590\n",
      "Epoch  21 Batch   16/44   train_loss = 3.645\n",
      "Epoch  21 Batch   26/44   train_loss = 3.586\n",
      "Epoch  21 Batch   36/44   train_loss = 3.679\n",
      "Epoch  22 Batch    2/44   train_loss = 3.414\n",
      "Epoch  22 Batch   12/44   train_loss = 3.487\n",
      "Epoch  22 Batch   22/44   train_loss = 3.479\n",
      "Epoch  22 Batch   32/44   train_loss = 3.476\n",
      "Epoch  22 Batch   42/44   train_loss = 3.427\n",
      "Epoch  23 Batch    8/44   train_loss = 3.447\n",
      "Epoch  23 Batch   18/44   train_loss = 3.588\n",
      "Epoch  23 Batch   28/44   train_loss = 3.389\n",
      "Epoch  23 Batch   38/44   train_loss = 3.302\n",
      "Epoch  24 Batch    4/44   train_loss = 3.396\n",
      "Epoch  24 Batch   14/44   train_loss = 3.445\n",
      "Epoch  24 Batch   24/44   train_loss = 3.396\n",
      "Epoch  24 Batch   34/44   train_loss = 3.405\n",
      "Epoch  25 Batch    0/44   train_loss = 3.264\n",
      "Epoch  25 Batch   10/44   train_loss = 3.370\n",
      "Epoch  25 Batch   20/44   train_loss = 3.297\n",
      "Epoch  25 Batch   30/44   train_loss = 3.457\n",
      "Epoch  25 Batch   40/44   train_loss = 3.342\n",
      "Epoch  26 Batch    6/44   train_loss = 3.212\n",
      "Epoch  26 Batch   16/44   train_loss = 3.218\n",
      "Epoch  26 Batch   26/44   train_loss = 3.266\n",
      "Epoch  26 Batch   36/44   train_loss = 3.291\n",
      "Epoch  27 Batch    2/44   train_loss = 3.140\n",
      "Epoch  27 Batch   12/44   train_loss = 3.076\n",
      "Epoch  27 Batch   22/44   train_loss = 3.157\n",
      "Epoch  27 Batch   32/44   train_loss = 3.194\n",
      "Epoch  27 Batch   42/44   train_loss = 3.121\n",
      "Epoch  28 Batch    8/44   train_loss = 2.949\n",
      "Epoch  28 Batch   18/44   train_loss = 3.036\n",
      "Epoch  28 Batch   28/44   train_loss = 2.988\n",
      "Epoch  28 Batch   38/44   train_loss = 2.877\n",
      "Epoch  29 Batch    4/44   train_loss = 2.896\n",
      "Epoch  29 Batch   14/44   train_loss = 2.937\n",
      "Epoch  29 Batch   24/44   train_loss = 2.837\n",
      "Epoch  29 Batch   34/44   train_loss = 2.831\n",
      "Epoch  30 Batch    0/44   train_loss = 2.762\n",
      "Epoch  30 Batch   10/44   train_loss = 2.913\n",
      "Epoch  30 Batch   20/44   train_loss = 2.842\n",
      "Epoch  30 Batch   30/44   train_loss = 2.871\n",
      "Epoch  30 Batch   40/44   train_loss = 2.796\n",
      "Epoch  31 Batch    6/44   train_loss = 2.729\n",
      "Epoch  31 Batch   16/44   train_loss = 2.907\n",
      "Epoch  31 Batch   26/44   train_loss = 2.929\n",
      "Epoch  31 Batch   36/44   train_loss = 2.849\n",
      "Epoch  32 Batch    2/44   train_loss = 2.725\n",
      "Epoch  32 Batch   12/44   train_loss = 2.783\n",
      "Epoch  32 Batch   22/44   train_loss = 2.861\n",
      "Epoch  32 Batch   32/44   train_loss = 2.877\n",
      "Epoch  32 Batch   42/44   train_loss = 2.743\n",
      "Epoch  33 Batch    8/44   train_loss = 2.712\n",
      "Epoch  33 Batch   18/44   train_loss = 2.815\n",
      "Epoch  33 Batch   28/44   train_loss = 2.700\n",
      "Epoch  33 Batch   38/44   train_loss = 2.550\n",
      "Epoch  34 Batch    4/44   train_loss = 2.673\n",
      "Epoch  34 Batch   14/44   train_loss = 2.593\n",
      "Epoch  34 Batch   24/44   train_loss = 2.503\n",
      "Epoch  34 Batch   34/44   train_loss = 2.451\n",
      "Epoch  35 Batch    0/44   train_loss = 2.430\n",
      "Epoch  35 Batch   10/44   train_loss = 2.489\n",
      "Epoch  35 Batch   20/44   train_loss = 2.472\n",
      "Epoch  35 Batch   30/44   train_loss = 2.456\n",
      "Epoch  35 Batch   40/44   train_loss = 2.374\n",
      "Epoch  36 Batch    6/44   train_loss = 2.310\n",
      "Epoch  36 Batch   16/44   train_loss = 2.410\n",
      "Epoch  36 Batch   26/44   train_loss = 2.370\n",
      "Epoch  36 Batch   36/44   train_loss = 2.376\n",
      "Epoch  37 Batch    2/44   train_loss = 2.279\n",
      "Epoch  37 Batch   12/44   train_loss = 2.271\n",
      "Epoch  37 Batch   22/44   train_loss = 2.234\n",
      "Epoch  37 Batch   32/44   train_loss = 2.348\n",
      "Epoch  37 Batch   42/44   train_loss = 2.279\n",
      "Epoch  38 Batch    8/44   train_loss = 2.255\n",
      "Epoch  38 Batch   18/44   train_loss = 2.286\n",
      "Epoch  38 Batch   28/44   train_loss = 2.223\n",
      "Epoch  38 Batch   38/44   train_loss = 2.124\n",
      "Epoch  39 Batch    4/44   train_loss = 2.263\n",
      "Epoch  39 Batch   14/44   train_loss = 2.347\n",
      "Epoch  39 Batch   24/44   train_loss = 2.384\n",
      "Epoch  39 Batch   34/44   train_loss = 2.260\n",
      "Epoch  40 Batch    0/44   train_loss = 2.071\n",
      "Epoch  40 Batch   10/44   train_loss = 2.338\n",
      "Epoch  40 Batch   20/44   train_loss = 2.317\n",
      "Epoch  40 Batch   30/44   train_loss = 2.250\n",
      "Epoch  40 Batch   40/44   train_loss = 2.198\n",
      "Epoch  41 Batch    6/44   train_loss = 2.072\n",
      "Epoch  41 Batch   16/44   train_loss = 2.272\n"
     ]
    },
    {
     "name": "stdout",
     "output_type": "stream",
     "text": [
      "Epoch  41 Batch   26/44   train_loss = 2.102\n",
      "Epoch  41 Batch   36/44   train_loss = 2.146\n",
      "Epoch  42 Batch    2/44   train_loss = 2.067\n",
      "Epoch  42 Batch   12/44   train_loss = 2.062\n",
      "Epoch  42 Batch   22/44   train_loss = 1.990\n",
      "Epoch  42 Batch   32/44   train_loss = 2.076\n",
      "Epoch  42 Batch   42/44   train_loss = 2.111\n",
      "Epoch  43 Batch    8/44   train_loss = 2.044\n",
      "Epoch  43 Batch   18/44   train_loss = 2.107\n",
      "Epoch  43 Batch   28/44   train_loss = 1.880\n",
      "Epoch  43 Batch   38/44   train_loss = 1.900\n",
      "Epoch  44 Batch    4/44   train_loss = 2.065\n",
      "Epoch  44 Batch   14/44   train_loss = 2.008\n",
      "Epoch  44 Batch   24/44   train_loss = 1.956\n",
      "Epoch  44 Batch   34/44   train_loss = 1.915\n",
      "Epoch  45 Batch    0/44   train_loss = 1.950\n",
      "Epoch  45 Batch   10/44   train_loss = 1.901\n",
      "Epoch  45 Batch   20/44   train_loss = 1.871\n",
      "Epoch  45 Batch   30/44   train_loss = 1.936\n",
      "Epoch  45 Batch   40/44   train_loss = 1.926\n",
      "Epoch  46 Batch    6/44   train_loss = 1.805\n",
      "Epoch  46 Batch   16/44   train_loss = 1.817\n",
      "Epoch  46 Batch   26/44   train_loss = 1.749\n",
      "Epoch  46 Batch   36/44   train_loss = 1.792\n",
      "Epoch  47 Batch    2/44   train_loss = 1.713\n",
      "Epoch  47 Batch   12/44   train_loss = 1.665\n",
      "Epoch  47 Batch   22/44   train_loss = 1.623\n",
      "Epoch  47 Batch   32/44   train_loss = 1.681\n",
      "Epoch  47 Batch   42/44   train_loss = 1.590\n",
      "Epoch  48 Batch    8/44   train_loss = 1.511\n",
      "Epoch  48 Batch   18/44   train_loss = 1.581\n",
      "Epoch  48 Batch   28/44   train_loss = 1.461\n",
      "Epoch  48 Batch   38/44   train_loss = 1.461\n",
      "Epoch  49 Batch    4/44   train_loss = 1.572\n",
      "Epoch  49 Batch   14/44   train_loss = 1.439\n",
      "Epoch  49 Batch   24/44   train_loss = 1.390\n",
      "Epoch  49 Batch   34/44   train_loss = 1.363\n",
      "Epoch  50 Batch    0/44   train_loss = 1.373\n",
      "Epoch  50 Batch   10/44   train_loss = 1.472\n",
      "Epoch  50 Batch   20/44   train_loss = 1.375\n",
      "Epoch  50 Batch   30/44   train_loss = 1.391\n",
      "Epoch  50 Batch   40/44   train_loss = 1.391\n",
      "Epoch  51 Batch    6/44   train_loss = 1.329\n",
      "Epoch  51 Batch   16/44   train_loss = 1.426\n",
      "Epoch  51 Batch   26/44   train_loss = 1.359\n",
      "Epoch  51 Batch   36/44   train_loss = 1.364\n",
      "Epoch  52 Batch    2/44   train_loss = 1.458\n",
      "Epoch  52 Batch   12/44   train_loss = 1.417\n",
      "Epoch  52 Batch   22/44   train_loss = 1.327\n",
      "Epoch  52 Batch   32/44   train_loss = 1.288\n",
      "Epoch  52 Batch   42/44   train_loss = 1.272\n",
      "Epoch  53 Batch    8/44   train_loss = 1.312\n",
      "Epoch  53 Batch   18/44   train_loss = 1.451\n",
      "Epoch  53 Batch   28/44   train_loss = 1.330\n",
      "Epoch  53 Batch   38/44   train_loss = 1.209\n",
      "Epoch  54 Batch    4/44   train_loss = 1.215\n",
      "Epoch  54 Batch   14/44   train_loss = 1.197\n",
      "Epoch  54 Batch   24/44   train_loss = 1.290\n",
      "Epoch  54 Batch   34/44   train_loss = 1.256\n",
      "Epoch  55 Batch    0/44   train_loss = 1.250\n",
      "Epoch  55 Batch   10/44   train_loss = 1.179\n",
      "Epoch  55 Batch   20/44   train_loss = 1.111\n",
      "Epoch  55 Batch   30/44   train_loss = 1.158\n",
      "Epoch  55 Batch   40/44   train_loss = 1.195\n",
      "Epoch  56 Batch    6/44   train_loss = 1.207\n",
      "Epoch  56 Batch   16/44   train_loss = 1.201\n",
      "Epoch  56 Batch   26/44   train_loss = 1.112\n",
      "Epoch  56 Batch   36/44   train_loss = 1.084\n",
      "Epoch  57 Batch    2/44   train_loss = 1.133\n",
      "Epoch  57 Batch   12/44   train_loss = 1.153\n",
      "Epoch  57 Batch   22/44   train_loss = 1.080\n",
      "Epoch  57 Batch   32/44   train_loss = 1.068\n",
      "Epoch  57 Batch   42/44   train_loss = 1.034\n",
      "Epoch  58 Batch    8/44   train_loss = 0.966\n",
      "Epoch  58 Batch   18/44   train_loss = 1.033\n",
      "Epoch  58 Batch   28/44   train_loss = 0.944\n",
      "Epoch  58 Batch   38/44   train_loss = 0.910\n",
      "Epoch  59 Batch    4/44   train_loss = 1.010\n",
      "Epoch  59 Batch   14/44   train_loss = 0.895\n",
      "Epoch  59 Batch   24/44   train_loss = 0.917\n",
      "Epoch  59 Batch   34/44   train_loss = 0.880\n",
      "Epoch  60 Batch    0/44   train_loss = 0.856\n",
      "Epoch  60 Batch   10/44   train_loss = 0.889\n",
      "Epoch  60 Batch   20/44   train_loss = 0.827\n",
      "Epoch  60 Batch   30/44   train_loss = 0.842\n",
      "Epoch  60 Batch   40/44   train_loss = 0.913\n",
      "Epoch  61 Batch    6/44   train_loss = 0.839\n",
      "Epoch  61 Batch   16/44   train_loss = 0.868\n",
      "Epoch  61 Batch   26/44   train_loss = 0.872\n",
      "Epoch  61 Batch   36/44   train_loss = 0.802\n",
      "Epoch  62 Batch    2/44   train_loss = 0.901\n",
      "Epoch  62 Batch   12/44   train_loss = 0.866\n",
      "Epoch  62 Batch   22/44   train_loss = 0.812\n",
      "Epoch  62 Batch   32/44   train_loss = 0.836\n",
      "Epoch  62 Batch   42/44   train_loss = 0.790\n",
      "Epoch  63 Batch    8/44   train_loss = 0.764\n",
      "Epoch  63 Batch   18/44   train_loss = 0.790\n",
      "Epoch  63 Batch   28/44   train_loss = 0.738\n",
      "Epoch  63 Batch   38/44   train_loss = 0.728\n",
      "Epoch  64 Batch    4/44   train_loss = 0.820\n",
      "Epoch  64 Batch   14/44   train_loss = 0.805\n",
      "Epoch  64 Batch   24/44   train_loss = 0.723\n",
      "Epoch  64 Batch   34/44   train_loss = 0.701\n",
      "Epoch  65 Batch    0/44   train_loss = 0.697\n",
      "Epoch  65 Batch   10/44   train_loss = 0.744\n",
      "Epoch  65 Batch   20/44   train_loss = 0.772\n",
      "Epoch  65 Batch   30/44   train_loss = 0.697\n",
      "Epoch  65 Batch   40/44   train_loss = 0.712\n",
      "Epoch  66 Batch    6/44   train_loss = 0.660\n",
      "Epoch  66 Batch   16/44   train_loss = 0.755\n",
      "Epoch  66 Batch   26/44   train_loss = 0.760\n",
      "Epoch  66 Batch   36/44   train_loss = 0.690\n",
      "Epoch  67 Batch    2/44   train_loss = 0.713\n",
      "Epoch  67 Batch   12/44   train_loss = 0.740\n",
      "Epoch  67 Batch   22/44   train_loss = 0.697\n",
      "Epoch  67 Batch   32/44   train_loss = 0.735\n",
      "Epoch  67 Batch   42/44   train_loss = 0.693\n",
      "Epoch  68 Batch    8/44   train_loss = 0.597\n",
      "Epoch  68 Batch   18/44   train_loss = 0.686\n",
      "Epoch  68 Batch   28/44   train_loss = 0.696\n",
      "Epoch  68 Batch   38/44   train_loss = 0.649\n",
      "Epoch  69 Batch    4/44   train_loss = 0.714\n",
      "Epoch  69 Batch   14/44   train_loss = 0.653\n",
      "Epoch  69 Batch   24/44   train_loss = 0.625\n",
      "Epoch  69 Batch   34/44   train_loss = 0.635\n",
      "Epoch  70 Batch    0/44   train_loss = 0.704\n",
      "Epoch  70 Batch   10/44   train_loss = 0.673\n",
      "Epoch  70 Batch   20/44   train_loss = 0.673\n",
      "Epoch  70 Batch   30/44   train_loss = 0.634\n",
      "Epoch  70 Batch   40/44   train_loss = 0.600\n",
      "Epoch  71 Batch    6/44   train_loss = 0.658\n",
      "Epoch  71 Batch   16/44   train_loss = 0.695\n",
      "Epoch  71 Batch   26/44   train_loss = 0.721\n",
      "Epoch  71 Batch   36/44   train_loss = 0.583\n",
      "Epoch  72 Batch    2/44   train_loss = 0.621\n",
      "Epoch  72 Batch   12/44   train_loss = 0.641\n",
      "Epoch  72 Batch   22/44   train_loss = 0.641\n",
      "Epoch  72 Batch   32/44   train_loss = 0.625\n",
      "Epoch  72 Batch   42/44   train_loss = 0.557\n",
      "Epoch  73 Batch    8/44   train_loss = 0.494\n",
      "Epoch  73 Batch   18/44   train_loss = 0.552\n",
      "Epoch  73 Batch   28/44   train_loss = 0.553\n",
      "Epoch  73 Batch   38/44   train_loss = 0.487\n",
      "Epoch  74 Batch    4/44   train_loss = 0.509\n",
      "Epoch  74 Batch   14/44   train_loss = 0.506\n",
      "Epoch  74 Batch   24/44   train_loss = 0.503\n",
      "Epoch  74 Batch   34/44   train_loss = 0.507\n",
      "Epoch  75 Batch    0/44   train_loss = 0.458\n",
      "Epoch  75 Batch   10/44   train_loss = 0.463\n",
      "Epoch  75 Batch   20/44   train_loss = 0.439\n",
      "Epoch  75 Batch   30/44   train_loss = 0.486\n",
      "Epoch  75 Batch   40/44   train_loss = 0.474\n",
      "Epoch  76 Batch    6/44   train_loss = 0.438\n",
      "Epoch  76 Batch   16/44   train_loss = 0.477\n",
      "Epoch  76 Batch   26/44   train_loss = 0.477\n",
      "Epoch  76 Batch   36/44   train_loss = 0.460\n",
      "Epoch  77 Batch    2/44   train_loss = 0.467\n",
      "Epoch  77 Batch   12/44   train_loss = 0.467\n",
      "Epoch  77 Batch   22/44   train_loss = 0.455\n",
      "Epoch  77 Batch   32/44   train_loss = 0.459\n",
      "Epoch  77 Batch   42/44   train_loss = 0.445\n",
      "Epoch  78 Batch    8/44   train_loss = 0.363\n",
      "Epoch  78 Batch   18/44   train_loss = 0.410\n",
      "Epoch  78 Batch   28/44   train_loss = 0.419\n",
      "Epoch  78 Batch   38/44   train_loss = 0.391\n",
      "Epoch  79 Batch    4/44   train_loss = 0.424\n",
      "Epoch  79 Batch   14/44   train_loss = 0.418\n",
      "Epoch  79 Batch   24/44   train_loss = 0.392\n",
      "Epoch  79 Batch   34/44   train_loss = 0.387\n",
      "Epoch  80 Batch    0/44   train_loss = 0.392\n",
      "Epoch  80 Batch   10/44   train_loss = 0.389\n",
      "Epoch  80 Batch   20/44   train_loss = 0.390\n",
      "Epoch  80 Batch   30/44   train_loss = 0.395\n",
      "Epoch  80 Batch   40/44   train_loss = 0.385\n",
      "Epoch  81 Batch    6/44   train_loss = 0.376\n",
      "Epoch  81 Batch   16/44   train_loss = 0.411\n",
      "Epoch  81 Batch   26/44   train_loss = 0.451\n",
      "Epoch  81 Batch   36/44   train_loss = 0.379\n",
      "Epoch  82 Batch    2/44   train_loss = 0.433\n",
      "Epoch  82 Batch   12/44   train_loss = 0.407\n",
      "Epoch  82 Batch   22/44   train_loss = 0.405\n",
      "Epoch  82 Batch   32/44   train_loss = 0.421\n",
      "Epoch  82 Batch   42/44   train_loss = 0.386\n"
     ]
    },
    {
     "name": "stdout",
     "output_type": "stream",
     "text": [
      "Epoch  83 Batch    8/44   train_loss = 0.342\n",
      "Epoch  83 Batch   18/44   train_loss = 0.370\n",
      "Epoch  83 Batch   28/44   train_loss = 0.390\n",
      "Epoch  83 Batch   38/44   train_loss = 0.346\n",
      "Epoch  84 Batch    4/44   train_loss = 0.394\n",
      "Epoch  84 Batch   14/44   train_loss = 0.372\n",
      "Epoch  84 Batch   24/44   train_loss = 0.378\n",
      "Epoch  84 Batch   34/44   train_loss = 0.362\n",
      "Epoch  85 Batch    0/44   train_loss = 0.350\n",
      "Epoch  85 Batch   10/44   train_loss = 0.391\n",
      "Epoch  85 Batch   20/44   train_loss = 0.324\n",
      "Epoch  85 Batch   30/44   train_loss = 0.411\n",
      "Epoch  85 Batch   40/44   train_loss = 0.341\n",
      "Epoch  86 Batch    6/44   train_loss = 0.353\n",
      "Epoch  86 Batch   16/44   train_loss = 0.392\n",
      "Epoch  86 Batch   26/44   train_loss = 0.392\n",
      "Epoch  86 Batch   36/44   train_loss = 0.399\n",
      "Epoch  87 Batch    2/44   train_loss = 0.390\n",
      "Epoch  87 Batch   12/44   train_loss = 0.407\n",
      "Epoch  87 Batch   22/44   train_loss = 0.372\n",
      "Epoch  87 Batch   32/44   train_loss = 0.408\n",
      "Epoch  87 Batch   42/44   train_loss = 0.375\n",
      "Epoch  88 Batch    8/44   train_loss = 0.311\n",
      "Epoch  88 Batch   18/44   train_loss = 0.372\n",
      "Epoch  88 Batch   28/44   train_loss = 0.359\n",
      "Epoch  88 Batch   38/44   train_loss = 0.353\n",
      "Epoch  89 Batch    4/44   train_loss = 0.355\n",
      "Epoch  89 Batch   14/44   train_loss = 0.360\n",
      "Epoch  89 Batch   24/44   train_loss = 0.353\n",
      "Epoch  89 Batch   34/44   train_loss = 0.350\n",
      "Epoch  90 Batch    0/44   train_loss = 0.363\n",
      "Epoch  90 Batch   10/44   train_loss = 0.345\n",
      "Epoch  90 Batch   20/44   train_loss = 0.332\n",
      "Epoch  90 Batch   30/44   train_loss = 0.358\n",
      "Epoch  90 Batch   40/44   train_loss = 0.350\n",
      "Epoch  91 Batch    6/44   train_loss = 0.344\n",
      "Epoch  91 Batch   16/44   train_loss = 0.368\n",
      "Epoch  91 Batch   26/44   train_loss = 0.395\n",
      "Epoch  91 Batch   36/44   train_loss = 0.349\n",
      "Epoch  92 Batch    2/44   train_loss = 0.389\n",
      "Epoch  92 Batch   12/44   train_loss = 0.374\n",
      "Epoch  92 Batch   22/44   train_loss = 0.367\n",
      "Epoch  92 Batch   32/44   train_loss = 0.383\n",
      "Epoch  92 Batch   42/44   train_loss = 0.355\n",
      "Epoch  93 Batch    8/44   train_loss = 0.307\n",
      "Epoch  93 Batch   18/44   train_loss = 0.335\n",
      "Epoch  93 Batch   28/44   train_loss = 0.360\n",
      "Epoch  93 Batch   38/44   train_loss = 0.331\n",
      "Epoch  94 Batch    4/44   train_loss = 0.341\n",
      "Epoch  94 Batch   14/44   train_loss = 0.345\n",
      "Epoch  94 Batch   24/44   train_loss = 0.328\n",
      "Epoch  94 Batch   34/44   train_loss = 0.332\n",
      "Epoch  95 Batch    0/44   train_loss = 0.334\n",
      "Epoch  95 Batch   10/44   train_loss = 0.337\n",
      "Epoch  95 Batch   20/44   train_loss = 0.303\n",
      "Epoch  95 Batch   30/44   train_loss = 0.337\n",
      "Epoch  95 Batch   40/44   train_loss = 0.321\n",
      "Epoch  96 Batch    6/44   train_loss = 0.321\n",
      "Epoch  96 Batch   16/44   train_loss = 0.355\n",
      "Epoch  96 Batch   26/44   train_loss = 0.360\n",
      "Epoch  96 Batch   36/44   train_loss = 0.325\n",
      "Epoch  97 Batch    2/44   train_loss = 0.366\n",
      "Epoch  97 Batch   12/44   train_loss = 0.354\n",
      "Epoch  97 Batch   22/44   train_loss = 0.345\n",
      "Epoch  97 Batch   32/44   train_loss = 0.364\n",
      "Epoch  97 Batch   42/44   train_loss = 0.332\n",
      "Epoch  98 Batch    8/44   train_loss = 0.287\n",
      "Epoch  98 Batch   18/44   train_loss = 0.318\n",
      "Epoch  98 Batch   28/44   train_loss = 0.340\n",
      "Epoch  98 Batch   38/44   train_loss = 0.306\n",
      "Epoch  99 Batch    4/44   train_loss = 0.329\n",
      "Epoch  99 Batch   14/44   train_loss = 0.320\n",
      "Epoch  99 Batch   24/44   train_loss = 0.316\n",
      "Epoch  99 Batch   34/44   train_loss = 0.315\n",
      "Model Trained and Saved\n"
     ]
    }
   ],
   "source": [
    "\"\"\"\n",
    "DON'T MODIFY ANYTHING IN THIS CELL\n",
    "\"\"\"\n",
    "batches = get_batches(int_text, batch_size, seq_length)\n",
    "\n",
    "with tf.Session(graph=train_graph) as sess:\n",
    "    sess.run(tf.global_variables_initializer())\n",
    "\n",
    "    for epoch_i in range(num_epochs):\n",
    "        state = sess.run(initial_state, {input_text: batches[0][0]})\n",
    "\n",
    "        for batch_i, (x, y) in enumerate(batches):\n",
    "            feed = {\n",
    "                input_text: x,\n",
    "                targets: y,\n",
    "                initial_state: state,\n",
    "                lr: learning_rate}\n",
    "            train_loss, state, _ = sess.run([cost, final_state, train_op], feed)\n",
    "            # Show every <show_every_n_batches> batches\n",
    "            if (epoch_i * len(batches) + batch_i) % show_every_n_batches == 0:\n",
    "                print('Epoch {:>3} Batch {:>4}/{}   train_loss = {:.3f}'.format(\n",
    "                    epoch_i,\n",
    "                    batch_i,\n",
    "                    len(batches),\n",
    "                    train_loss))\n",
    "\n",
    "    # Save Model\n",
    "    saver = tf.train.Saver()\n",
    "    saver.save(sess, save_dir)\n",
    "    print('Model Trained and Saved')"
   ]
  },
  {
   "cell_type": "markdown",
   "metadata": {},
   "source": [
    "## Save Parameters\n",
    "Save `seq_length` and `save_dir` for generating a new TV script."
   ]
  },
  {
   "cell_type": "code",
   "execution_count": 45,
   "metadata": {
    "collapsed": true
   },
   "outputs": [],
   "source": [
    "\"\"\"\n",
    "DON'T MODIFY ANYTHING IN THIS CELL\n",
    "\"\"\"\n",
    "# Save parameters for checkpoint\n",
    "helper.save_params((seq_length, save_dir))"
   ]
  },
  {
   "cell_type": "markdown",
   "metadata": {},
   "source": [
    "# Checkpoint"
   ]
  },
  {
   "cell_type": "code",
   "execution_count": 47,
   "metadata": {
    "collapsed": true
   },
   "outputs": [],
   "source": [
    "\"\"\"\n",
    "DON'T MODIFY ANYTHING IN THIS CELL\n",
    "\"\"\"\n",
    "import tensorflow as tf\n",
    "import numpy as np\n",
    "import helper\n",
    "import problem_unittests as tests\n",
    "\n",
    "_, vocab_to_int, int_to_vocab, token_dict = helper.load_preprocess()\n",
    "seq_length, load_dir = helper.load_params()"
   ]
  },
  {
   "cell_type": "markdown",
   "metadata": {},
   "source": [
    "## Implement Generate Functions\n",
    "### Get Tensors\n",
    "Get tensors from `loaded_graph` using the function [`get_tensor_by_name()`](https://www.tensorflow.org/api_docs/python/tf/Graph#get_tensor_by_name).  Get the tensors using the following names:\n",
    "- \"input:0\"\n",
    "- \"initial_state:0\"\n",
    "- \"final_state:0\"\n",
    "- \"probs:0\"\n",
    "\n",
    "Return the tensors in the following tuple `(InputTensor, InitialStateTensor, FinalStateTensor, ProbsTensor)` "
   ]
  },
  {
   "cell_type": "code",
   "execution_count": 52,
   "metadata": {},
   "outputs": [
    {
     "name": "stdout",
     "output_type": "stream",
     "text": [
      "Tests Passed\n"
     ]
    }
   ],
   "source": [
    "def get_tensors(loaded_graph):\n",
    "    \"\"\"\n",
    "    Get input, initial state, final state, and probabilities tensor from <loaded_graph>\n",
    "    :param loaded_graph: TensorFlow graph loaded from file\n",
    "    :return: Tuple (InputTensor, InitialStateTensor, FinalStateTensor, ProbsTensor)\n",
    "    \"\"\"\n",
    "    # TODO: Implement Function\n",
    "    input_tensor = loaded_graph.get_tensor_by_name(\"input:0\")\n",
    "    initial_state_tensor = loaded_graph.get_tensor_by_name(\"initial_state:0\")\n",
    "    final_state_tensor = loaded_graph.get_tensor_by_name(\"final_state:0\")\n",
    "    probs_tensor = loaded_graph.get_tensor_by_name(\"probs:0\")\n",
    "    return input_tensor, initial_state_tensor, final_state_tensor, probs_tensor\n",
    "\n",
    "\n",
    "\"\"\"\n",
    "DON'T MODIFY ANYTHING IN THIS CELL THAT IS BELOW THIS LINE\n",
    "\"\"\"\n",
    "tests.test_get_tensors(get_tensors)"
   ]
  },
  {
   "cell_type": "markdown",
   "metadata": {},
   "source": [
    "### Choose Word\n",
    "Implement the `pick_word()` function to select the next word using `probabilities`."
   ]
  },
  {
   "cell_type": "code",
   "execution_count": 61,
   "metadata": {},
   "outputs": [
    {
     "name": "stdout",
     "output_type": "stream",
     "text": [
      "Tests Passed\n"
     ]
    }
   ],
   "source": [
    "def pick_word(probabilities, int_to_vocab):\n",
    "    \"\"\"\n",
    "    Pick the next word in the generated text\n",
    "    :param probabilities: Probabilites of the next word\n",
    "    :param int_to_vocab: Dictionary of word ids as the keys and words as the values\n",
    "    :return: String of the predicted word\n",
    "    \"\"\"\n",
    "    # TODO: Implement Function\n",
    "    int_key_list = [ k for k in int_to_vocab ]\n",
    "    int_key = np.random.choice(int_key_list, 1, p=probabilities)[0]\n",
    "    word = int_to_vocab[int_key]\n",
    "    return word\n",
    "\n",
    "\n",
    "\"\"\"\n",
    "DON'T MODIFY ANYTHING IN THIS CELL THAT IS BELOW THIS LINE\n",
    "\"\"\"\n",
    "tests.test_pick_word(pick_word)"
   ]
  },
  {
   "cell_type": "markdown",
   "metadata": {},
   "source": [
    "## Generate TV Script\n",
    "This will generate the TV script for you.  Set `gen_length` to the length of TV script you want to generate."
   ]
  },
  {
   "cell_type": "code",
   "execution_count": 62,
   "metadata": {},
   "outputs": [
    {
     "name": "stdout",
     "output_type": "stream",
     "text": [
      "INFO:tensorflow:Restoring parameters from ./save\n",
      "moe_szyslak:(explaining)\" go near moe.\" i'd say that's as them before my friend!\n",
      "professor_jonathan_frink: why we seen going alone!\n",
      "barney_gumble: ow!\n",
      "barney_gumble: yeah, welcome those sure over american suspended drinkin' over for love with the secret stadium off\"\" skinner and money.(to moe) what me-- it's going a top and carl on the game!\n",
      "moe_szyslak: chief guys! oh, what's right?! oh, what's these else in the keys?\n",
      "lisa_simpson: yes, it's one than these time that-- i'm gonna dinner a social 'cause he might an romantic take-back.\n",
      "carl_carlson:(into phone) who guys no mean in the best boat and you don't know. look doesn't even much vampires?\n",
      "marge_simpson: thanks, moe.\n",
      "barney_gumble: lost to christmas of exactly before you all wanna think you can kill that anything?\n",
      "carl_carlson: of an feeling to school.(nervous noise)\n",
      "moe_szyslak: well, what going-- she cries for this isotopes out on the game!\n",
      "lloyd: a little rat damn from\n"
     ]
    }
   ],
   "source": [
    "gen_length = 200\n",
    "# homer_simpson, moe_szyslak, or Barney_Gumble\n",
    "prime_word = 'moe_szyslak'\n",
    "\n",
    "\"\"\"\n",
    "DON'T MODIFY ANYTHING IN THIS CELL THAT IS BELOW THIS LINE\n",
    "\"\"\"\n",
    "loaded_graph = tf.Graph()\n",
    "with tf.Session(graph=loaded_graph) as sess:\n",
    "    # Load saved model\n",
    "    loader = tf.train.import_meta_graph(load_dir + '.meta')\n",
    "    loader.restore(sess, load_dir)\n",
    "\n",
    "    # Get Tensors from loaded model\n",
    "    input_text, initial_state, final_state, probs = get_tensors(loaded_graph)\n",
    "\n",
    "    # Sentences generation setup\n",
    "    gen_sentences = [prime_word + ':']\n",
    "    prev_state = sess.run(initial_state, {input_text: np.array([[1]])})\n",
    "\n",
    "    # Generate sentences\n",
    "    for n in range(gen_length):\n",
    "        # Dynamic Input\n",
    "        dyn_input = [[vocab_to_int[word] for word in gen_sentences[-seq_length:]]]\n",
    "        dyn_seq_length = len(dyn_input[0])\n",
    "\n",
    "        # Get Prediction\n",
    "        probabilities, prev_state = sess.run(\n",
    "            [probs, final_state],\n",
    "            {input_text: dyn_input, initial_state: prev_state})\n",
    "        \n",
    "        pred_word = pick_word(probabilities[dyn_seq_length-1], int_to_vocab)\n",
    "\n",
    "        gen_sentences.append(pred_word)\n",
    "    \n",
    "    # Remove tokens\n",
    "    tv_script = ' '.join(gen_sentences)\n",
    "    for key, token in token_dict.items():\n",
    "        ending = ' ' if key in ['\\n', '(', '\"'] else ''\n",
    "        tv_script = tv_script.replace(' ' + token.lower(), key)\n",
    "    tv_script = tv_script.replace('\\n ', '\\n')\n",
    "    tv_script = tv_script.replace('( ', '(')\n",
    "        \n",
    "    print(tv_script)"
   ]
  },
  {
   "cell_type": "markdown",
   "metadata": {},
   "source": [
    "# The TV Script is Nonsensical\n",
    "It's ok if the TV script doesn't make any sense.  We trained on less than a megabyte of text.  In order to get good results, you'll have to use a smaller vocabulary or get more data.  Luckly there's more data!  As we mentioned in the begging of this project, this is a subset of [another dataset](https://www.kaggle.com/wcukierski/the-simpsons-by-the-data).  We didn't have you train on all the data, because that would take too long.  However, you are free to train your neural network on all the data.  After you complete the project, of course.\n",
    "# Submitting This Project\n",
    "When submitting this project, make sure to run all the cells before saving the notebook. Save the notebook file as \"dlnd_tv_script_generation.ipynb\" and save it as a HTML file under \"File\" -> \"Download as\". Include the \"helper.py\" and \"problem_unittests.py\" files in your submission."
   ]
  }
 ],
 "metadata": {
  "kernelspec": {
   "display_name": "Python 3",
   "language": "python",
   "name": "python3"
  },
  "language_info": {
   "codemirror_mode": {
    "name": "ipython",
    "version": 3
   },
   "file_extension": ".py",
   "mimetype": "text/x-python",
   "name": "python",
   "nbconvert_exporter": "python",
   "pygments_lexer": "ipython3",
   "version": "3.5.3"
  },
  "widgets": {
   "state": {},
   "version": "1.1.2"
  }
 },
 "nbformat": 4,
 "nbformat_minor": 1
}
